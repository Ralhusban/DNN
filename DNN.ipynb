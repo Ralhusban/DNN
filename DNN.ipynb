{
 "cells": [
  {
   "cell_type": "markdown",
   "metadata": {
    "id": "7VXge9kYFPla"
   },
   "source": [
    "In this project, we construct a Deep Neural Network (DNN) with the following specifications: \n",
    "\n",
    "- Code written from scratch e.g. no use of Keras / tensor flow etc\n",
    "- The function will accept any number of hidden layers and hidden units at each layer\n",
    "- L2 weight regularization is applied if indicated in the parameters\n",
    "- We test our DNN's performance on the MINST dataset\n"
   ]
  },
  {
   "cell_type": "code",
   "execution_count": 3,
   "metadata": {
    "id": "P8z-WKOwHeiu"
   },
   "outputs": [],
   "source": [
    "import numpy as np\n",
    "import pandas as pd\n",
    "from sklearn.preprocessing import OneHotEncoder\n",
    "import matplotlib.pyplot as plt"
   ]
  },
  {
   "cell_type": "markdown",
   "metadata": {
    "id": "8WvgfwPPI6h3"
   },
   "source": [
    "# **MINST (Sample Dataset)**\n",
    "\n"
   ]
  },
  {
   "cell_type": "code",
   "execution_count": 4,
   "metadata": {
    "colab": {
     "base_uri": "https://localhost:8080/",
     "height": 114
    },
    "id": "qdpxl760vMBe",
    "outputId": "8d06fa96-a5cd-488c-8449-1fe2a10d3bc7"
   },
   "outputs": [],
   "source": [
    "from keras.datasets import mnist\n",
    "(X_train, y_train), (X_test, y_test) = mnist.load_data()"
   ]
  },
  {
   "cell_type": "code",
   "execution_count": 5,
   "metadata": {},
   "outputs": [],
   "source": [
    "def sigmoid(x):\n",
    "    return 1/(1+np.exp(-x))"
   ]
  },
  {
   "cell_type": "code",
   "execution_count": 6,
   "metadata": {},
   "outputs": [],
   "source": [
    "def sigmoid_prime(x):\n",
    "    return sigmoid(x)*(1-sigmoid(x))"
   ]
  },
  {
   "cell_type": "code",
   "execution_count": 7,
   "metadata": {},
   "outputs": [],
   "source": [
    "def softmax(A):\n",
    "    expA = np.exp(A)\n",
    "    return expA / expA.sum(axis=1, keepdims=True)"
   ]
  },
  {
   "cell_type": "markdown",
   "metadata": {},
   "source": [
    "### Data preprocessing involves:\n",
    "#### 1- One-hot encoding of the output variables\n",
    "#### 2- Reshaping the 28*28 matrix to 1-D 784 vectors\n",
    "#### 3- Data is normalized e.g. substraction of mean and division by standard deviation"
   ]
  },
  {
   "cell_type": "code",
   "execution_count": 8,
   "metadata": {},
   "outputs": [],
   "source": [
    "enc=OneHotEncoder(sparse=False)\n",
    "y_train=enc.fit_transform(y_train.reshape(len(y_train),1))\n",
    "y_test=enc.fit_transform(y_test.reshape(len(y_test),1))"
   ]
  },
  {
   "cell_type": "code",
   "execution_count": 9,
   "metadata": {},
   "outputs": [],
   "source": [
    "X_train=X_train.reshape(X_train.shape[0], X_train.shape[1]**2) # Convert array from 2D to 1D\n",
    "X_test=X_test.reshape(X_test.shape[0], X_test.shape[1]**2)"
   ]
  },
  {
   "cell_type": "code",
   "execution_count": 10,
   "metadata": {},
   "outputs": [],
   "source": [
    "#Normalize the train and test data\n",
    "X_train=(X_train-X_train.mean())/ X_train.std()\n",
    "X_test=(X_test-X_test.mean())/ X_test.std()"
   ]
  },
  {
   "cell_type": "markdown",
   "metadata": {},
   "source": [
    "### The below function is meant to generate weight and bias as per the hidden layers configuration"
   ]
  },
  {
   "cell_type": "code",
   "execution_count": 11,
   "metadata": {},
   "outputs": [],
   "source": [
    "def generate_matrices_bias(X, y, l_hidden):\n",
    "    W_x=[] \n",
    "    B_x=[]\n",
    "    K=y.shape[1]\n",
    "            \n",
    "    W_x.append(np.random.normal(0,0.02,((X.shape[1], l_hidden[0])))) # Accounts for the first hidden layer\n",
    "    B_x.append(np.random.normal(0,0.02,(1, l_hidden[0])))\n",
    "            \n",
    "    if len(l_hidden)>1:\n",
    "        for i in range(len(l_hidden)-1):\n",
    "            \n",
    "            W_x.append(np.random.normal(0,0.02,((l_hidden[i], l_hidden[i+1])))) # Takes care of intermediate hidden layer\n",
    "            B_x.append(np.random.normal(0,0.02,(1, l_hidden[i+1])))\n",
    "            \n",
    "    W_x.append(np.random.normal(0,0.02,((l_hidden[-1], K)))) # Takes care of the output layer weights with K being number of classes\n",
    "    B_x.append(np.random.normal(0,0.02,(1, K)))\n",
    "\n",
    "        \n",
    "    W_x=np.array(W_x, dtype='object')\n",
    "    #B_x=np.array(B_x, dtype='object')\n",
    "\n",
    "    return W_x, B_x"
   ]
  },
  {
   "cell_type": "markdown",
   "metadata": {},
   "source": [
    "### The forward pass and model_accuracy functions are used for computing accurace of the model"
   ]
  },
  {
   "cell_type": "code",
   "execution_count": 12,
   "metadata": {},
   "outputs": [],
   "source": [
    "def forward_pass(X, W_x, B_x):\n",
    "    Z_h=[]\n",
    "        \n",
    "    h=(X@W_x[0])+B_x[0]\n",
    "    Zh= sigmoid(h)\n",
    "    Z_h.append(Zh)\n",
    "    #print('Zh', Z_h[-1].shape)\n",
    "    if len(W_x)>2:\n",
    "        \n",
    "        for i in range(len(W_x)-2):\n",
    "            \n",
    "            #print('intermediate')\n",
    "            h_intermediate= (Z_h[i]@W_x[i+1])+B_x[i+1]\n",
    "            Zh_intermediate= sigmoid(h_intermediate)\n",
    "            Z_h.append(Zh_intermediate)\n",
    "            #print('intermediate', Zh_intermediate.shape)\n",
    "    Aout= (Z_h[-1]@W_x[-1])+B_x[-1]\n",
    "    #print('Aout', Aout.shape)\n",
    "    Zout= softmax(Aout)\n",
    "        \n",
    "    return Zout"
   ]
  },
  {
   "cell_type": "code",
   "execution_count": 13,
   "metadata": {},
   "outputs": [],
   "source": [
    "# Utility function to compute model's accuracy\n",
    "def model_accuracy(y_hat, y_train):\n",
    "    ctr=0\n",
    "    for i in range(len(y_hat)):\n",
    "        if np.argmax(y_hat[i])==np.argmax(y_train[i]):\n",
    "            ctr+=1\n",
    "    return round((ctr*100/len(y_hat)),2)"
   ]
  },
  {
   "cell_type": "markdown",
   "metadata": {},
   "source": [
    "### This is the main Neural Netwrok function"
   ]
  },
  {
   "cell_type": "code",
   "execution_count": 14,
   "metadata": {},
   "outputs": [],
   "source": [
    "def Neural_Network(X_train, y_train, X_test, y_test, hidden_layers, lr=0.0001, epochs=100, l2_lambda=0):\n",
    "    training_accuracy=[]\n",
    "    validation_accuracy=[]\n",
    "    validation_cost=[]\n",
    "    W_x, B_x= generate_matrices_bias(X_train, y_train, hidden_layers) # Utility function to initiate weight and bias matrices as per the hidded layers configuration\n",
    "    cost=[]   # List of Cost for plotting purposes\n",
    "    for i in range(epochs):\n",
    "        \n",
    "        Z_h=[] # Zh values are stored in a list to enable forward-pass and backward-propagaation thru multiple hidden layers\n",
    "        \n",
    "        #Forward pass\n",
    "        \n",
    "        for j in range(len(W_x)): \n",
    "                \n",
    "            # Input layer\n",
    "            if j==0: \n",
    "                Zh1=(X_train@W_x[j])+B_x[j] # Zh1=[X.Wh1]+bh1\n",
    "                ah1= sigmoid(Zh1)\n",
    "                Z_h.append(ah1)\n",
    "             \n",
    "            # Output layer\n",
    "            elif j==len(W_x)-1:\n",
    "\n",
    "                A_out= (Z_h[j-1]@W_x[j])+B_x[j]\n",
    "                #Z_h.append(A_out)\n",
    "                y= softmax(A_out)\n",
    "                #print('output layer', y[:10,:1], 'j=', j)\n",
    "                \n",
    "            # Hidden layers\n",
    "            else :\n",
    "                Zh_intermediate= (Z_h[j-1]@W_x[j])+B_x[j]\n",
    "                Ah_intermediate= sigmoid(Zh_intermediate)\n",
    "                Z_h.append(Ah_intermediate)\n",
    "                #print('hidden layer', j, Ah_intermediate[:10,:1])\n",
    "\n",
    "        # Backward-propagation\n",
    "        \n",
    "        for j in range(len(W_x)-1, -1, -1):\n",
    "            #print('backpop',j)\n",
    "            if j==len(W_x)-1:\n",
    "                #print('backprop output',j)\n",
    "                # Backprop for output layer\n",
    "                log_loss=(y-y_train)\n",
    "                l2_penalty=0\n",
    "                    \n",
    "                cost.append(-np.sum(y_train*np.log(y)/len(y)))# +((l2_lambda/2*len(y))*np.linal.norm(W_x[-1])**2)) # Cross Entropy cost with L2 regularization | Loss + lambda/2m * sum of ||w||**2\n",
    "                W_x[j]=(1-(lr*l2_lambda/len(X_train)))*W_x[j]-lr*(Z_h[-1].T@log_loss)\n",
    "                B_x[j]=(1-(lr*l2_lambda/len(X_train)))*B_x[j]-lr*np.sum(log_loss, axis=0)\n",
    "                #print('output layer done')\n",
    "                \n",
    "            # Input layer    \n",
    "            elif j==0: \n",
    "                #print('backprop input layer', j)\n",
    "                log_loss= (log_loss@W_x[j+1].T)*sigmoid_prime(Z_h[0])\n",
    "                W_x[j]=(1-(0.01*l2_lambda/len(X_train)))*W_x[j]-lr*(X_train.T@log_loss) # Weight and bias updates with L2 regularization. Lambda is zero unless indicated\n",
    "                B_x[j]=(1-(0.01*l2_lambda/len(X_train)))*B_x[j]-lr*np.sum(log_loss, axis=0)\n",
    "                #print('input layer done')\n",
    "            \n",
    "            # Hidden layers\n",
    "            else:\n",
    "                #print('backprop hidden',j)\n",
    "                #print('Hidden layer')\n",
    "                log_loss= (log_loss@W_x[j+1].T)*sigmoid_prime(Z_h[j])\n",
    "                W_x[j]-=lr*(Z_h[j-1].T@log_loss)\n",
    "                B_x[j]-=lr*np.sum(log_loss, axis=0)\n",
    "                #print(i, 'intermediate')\n",
    "                \n",
    "        # Model metrics - Training & Validation costs / accuracies \n",
    "        \n",
    "        y_hat_test=forward_pass(X_test, W_x, B_x)\n",
    "        training_accuracy.append(model_accuracy(y, y_train))\n",
    "        validation_accuracy.append(model_accuracy(y_hat_test, y_test))\n",
    "        validation_cost.append(-np.sum(y_test*np.log(y_hat_test)/len(X_test)))\n",
    "        if i%100==0: # print results every 20 epochs\n",
    "            y_hat_train=forward_pass(X_train, W_x, B_x) \n",
    "            y_hat_test=forward_pass(X_test, W_x, B_x)\n",
    "            print('**** Epoch ', i+1, '/', epochs, '****')\n",
    "            print('Training accuracy:', model_accuracy(y_hat_train, y_train),'%')\n",
    "            print('Validation accuracy',model_accuracy(y_hat_test, y_test),'%')\n",
    "    print('Model training completed!')        \n",
    "    print('Training Accuracy:', training_accuracy[-1],'%')\n",
    "    print('Validation Accuracy:', validation_accuracy[-1],'%')\n",
    "    return cost, W_x, B_x, y, training_accuracy, validation_accuracy, validation_cost"
   ]
  },
  {
   "cell_type": "markdown",
   "metadata": {},
   "source": [
    "### The parameters of the function are set below"
   ]
  },
  {
   "cell_type": "code",
   "execution_count": 146,
   "metadata": {},
   "outputs": [],
   "source": [
    "l_hidden=[128,64] # Hidden layers configuration\n",
    "alpha=0.00001 # Learning rate\n",
    "l2_lambda=0.2 #L2 regularization variable\n",
    "epochs=1000 # Number of epochs"
   ]
  },
  {
   "cell_type": "markdown",
   "metadata": {},
   "source": [
    "### We run three expirements with a combination of hyper-parameters"
   ]
  },
  {
   "cell_type": "code",
   "execution_count": 147,
   "metadata": {},
   "outputs": [
    {
     "name": "stdout",
     "output_type": "stream",
     "text": [
      "**** Epoch  1 / 1000 ****\n",
      "Training accuracy: 11.24 %\n",
      "Validation accuracy 11.35 %\n",
      "**** Epoch  101 / 1000 ****\n",
      "Training accuracy: 38.04 %\n",
      "Validation accuracy 37.96 %\n",
      "**** Epoch  201 / 1000 ****\n",
      "Training accuracy: 72.06 %\n",
      "Validation accuracy 73.02 %\n",
      "**** Epoch  301 / 1000 ****\n",
      "Training accuracy: 79.14 %\n",
      "Validation accuracy 80.04 %\n",
      "**** Epoch  401 / 1000 ****\n",
      "Training accuracy: 82.52 %\n",
      "Validation accuracy 82.83 %\n",
      "**** Epoch  501 / 1000 ****\n",
      "Training accuracy: 85.29 %\n",
      "Validation accuracy 85.63 %\n",
      "**** Epoch  601 / 1000 ****\n",
      "Training accuracy: 86.8 %\n",
      "Validation accuracy 87.1 %\n",
      "**** Epoch  701 / 1000 ****\n",
      "Training accuracy: 87.66 %\n",
      "Validation accuracy 87.79 %\n",
      "**** Epoch  801 / 1000 ****\n",
      "Training accuracy: 88.26 %\n",
      "Validation accuracy 88.41 %\n",
      "**** Epoch  901 / 1000 ****\n",
      "Training accuracy: 88.72 %\n",
      "Validation accuracy 88.92 %\n"
     ]
    }
   ],
   "source": [
    "error, W_x, B_x, y, training_acc, val_acc, val_cost=Neural_Network(X_train, y_train, X_test, y_test, l_hidden, alpha, epochs, l2_lambda)"
   ]
  },
  {
   "cell_type": "code",
   "execution_count": 152,
   "metadata": {},
   "outputs": [
    {
     "data": {
      "image/png": "[encoded data removed]",
      "text/plain": [
       "<Figure size 1296x432 with 1 Axes>"
      ]
     },
     "metadata": {
      "needs_background": "light"
     },
     "output_type": "display_data"
    }
   ],
   "source": [
    "plt.figure(figsize=(18,6))\n",
    "plt.plot(error, label='Training')\n",
    "plt.plot(val_cost, '--', color='red' , label='Validation')\n",
    "plt.title('Training and validation Cost over epochs')\n",
    "plt.xlabel('Epochs')\n",
    "plt.ylabel('Cost')\n",
    "plt.legend()\n",
    "plt.show()"
   ]
  },
  {
   "cell_type": "code",
   "execution_count": 153,
   "metadata": {},
   "outputs": [
    {
     "data": {
      "image/png": "[encoded data removed]",
      "text/plain": [
       "<Figure size 1296x432 with 1 Axes>"
      ]
     },
     "metadata": {
      "needs_background": "light"
     },
     "output_type": "display_data"
    }
   ],
   "source": [
    "plt.figure(figsize=(18,6))\n",
    "plt.plot(training_acc, label='Training')\n",
    "plt.plot(val_acc, '--',color='red', label='Validation')\n",
    "plt.title('Training and Validation accuracy')\n",
    "plt.xlabel('Epochs')\n",
    "plt.ylabel('Accuracy')\n",
    "plt.legend()\n",
    "plt.show()"
   ]
  },
  {
   "cell_type": "markdown",
   "metadata": {},
   "source": [
    "### The model has two hidden layers (128,64) with $\\lambda$ =0.2 and $\\alpha$=1e-4 resulted in a validation accuracy of ~89%"
   ]
  },
  {
   "cell_type": "code",
   "execution_count": 326,
   "metadata": {},
   "outputs": [],
   "source": [
    "l_hidden=[100] # Hidden layers configuration\n",
    "alpha=0.00001 # Learning rate\n",
    "l2_lambda=0.2 #L2 regularization variable\n",
    "epochs=10000 # Number of epochs"
   ]
  },
  {
   "cell_type": "code",
   "execution_count": 327,
   "metadata": {},
   "outputs": [
    {
     "name": "stdout",
     "output_type": "stream",
     "text": [
      "**** Epoch  1 / 10000 ****\n",
      "Training accuracy: 26.17 %\n",
      "Validation accuracy 26.45 %\n",
      "**** Epoch  101 / 10000 ****\n",
      "Training accuracy: 89.16 %\n",
      "Validation accuracy 89.51 %\n",
      "**** Epoch  201 / 10000 ****\n",
      "Training accuracy: 90.31 %\n",
      "Validation accuracy 90.58 %\n",
      "**** Epoch  301 / 10000 ****\n",
      "Training accuracy: 90.72 %\n",
      "Validation accuracy 90.96 %\n",
      "**** Epoch  401 / 10000 ****\n",
      "Training accuracy: 90.94 %\n",
      "Validation accuracy 91.22 %\n",
      "**** Epoch  501 / 10000 ****\n",
      "Training accuracy: 91.16 %\n",
      "Validation accuracy 91.35 %\n",
      "**** Epoch  601 / 10000 ****\n",
      "Training accuracy: 91.28 %\n",
      "Validation accuracy 91.46 %\n",
      "**** Epoch  701 / 10000 ****\n",
      "Training accuracy: 91.39 %\n",
      "Validation accuracy 91.48 %\n",
      "**** Epoch  801 / 10000 ****\n",
      "Training accuracy: 91.46 %\n",
      "Validation accuracy 91.45 %\n",
      "**** Epoch  901 / 10000 ****\n",
      "Training accuracy: 91.56 %\n",
      "Validation accuracy 91.61 %\n",
      "**** Epoch  1001 / 10000 ****\n",
      "Training accuracy: 91.61 %\n",
      "Validation accuracy 91.58 %\n",
      "**** Epoch  1101 / 10000 ****\n",
      "Training accuracy: 91.67 %\n",
      "Validation accuracy 91.73 %\n",
      "**** Epoch  1201 / 10000 ****\n",
      "Training accuracy: 91.75 %\n",
      "Validation accuracy 91.79 %\n",
      "**** Epoch  1301 / 10000 ****\n",
      "Training accuracy: 91.83 %\n",
      "Validation accuracy 91.75 %\n",
      "**** Epoch  1401 / 10000 ****\n",
      "Training accuracy: 91.93 %\n",
      "Validation accuracy 91.91 %\n",
      "**** Epoch  1501 / 10000 ****\n",
      "Training accuracy: 91.99 %\n",
      "Validation accuracy 92.0 %\n",
      "**** Epoch  1601 / 10000 ****\n",
      "Training accuracy: 92.08 %\n",
      "Validation accuracy 92.02 %\n",
      "**** Epoch  1701 / 10000 ****\n",
      "Training accuracy: 92.14 %\n",
      "Validation accuracy 91.99 %\n",
      "**** Epoch  1801 / 10000 ****\n",
      "Training accuracy: 92.21 %\n",
      "Validation accuracy 91.96 %\n",
      "**** Epoch  1901 / 10000 ****\n",
      "Training accuracy: 92.22 %\n",
      "Validation accuracy 91.99 %\n",
      "**** Epoch  2001 / 10000 ****\n",
      "Training accuracy: 92.32 %\n",
      "Validation accuracy 92.01 %\n",
      "**** Epoch  2101 / 10000 ****\n",
      "Training accuracy: 92.36 %\n",
      "Validation accuracy 92.1 %\n",
      "**** Epoch  2201 / 10000 ****\n",
      "Training accuracy: 92.41 %\n",
      "Validation accuracy 92.18 %\n",
      "**** Epoch  2301 / 10000 ****\n",
      "Training accuracy: 92.44 %\n",
      "Validation accuracy 92.21 %\n",
      "**** Epoch  2401 / 10000 ****\n",
      "Training accuracy: 92.48 %\n",
      "Validation accuracy 92.31 %\n",
      "**** Epoch  2501 / 10000 ****\n",
      "Training accuracy: 92.51 %\n",
      "Validation accuracy 92.4 %\n",
      "**** Epoch  2601 / 10000 ****\n",
      "Training accuracy: 92.5 %\n",
      "Validation accuracy 92.32 %\n",
      "**** Epoch  2701 / 10000 ****\n",
      "Training accuracy: 92.53 %\n",
      "Validation accuracy 92.37 %\n",
      "**** Epoch  2801 / 10000 ****\n",
      "Training accuracy: 92.54 %\n",
      "Validation accuracy 92.45 %\n",
      "**** Epoch  2901 / 10000 ****\n",
      "Training accuracy: 92.56 %\n",
      "Validation accuracy 92.5 %\n",
      "**** Epoch  3001 / 10000 ****\n",
      "Training accuracy: 92.61 %\n",
      "Validation accuracy 92.55 %\n",
      "**** Epoch  3101 / 10000 ****\n",
      "Training accuracy: 92.65 %\n",
      "Validation accuracy 92.55 %\n",
      "**** Epoch  3201 / 10000 ****\n",
      "Training accuracy: 92.68 %\n",
      "Validation accuracy 92.56 %\n",
      "**** Epoch  3301 / 10000 ****\n",
      "Training accuracy: 92.67 %\n",
      "Validation accuracy 92.58 %\n",
      "**** Epoch  3401 / 10000 ****\n",
      "Training accuracy: 92.72 %\n",
      "Validation accuracy 92.61 %\n",
      "**** Epoch  3501 / 10000 ****\n",
      "Training accuracy: 92.75 %\n",
      "Validation accuracy 92.61 %\n",
      "**** Epoch  3601 / 10000 ****\n",
      "Training accuracy: 92.78 %\n",
      "Validation accuracy 92.6 %\n",
      "**** Epoch  3701 / 10000 ****\n",
      "Training accuracy: 92.79 %\n",
      "Validation accuracy 92.53 %\n",
      "**** Epoch  3801 / 10000 ****\n",
      "Training accuracy: 92.81 %\n",
      "Validation accuracy 92.59 %\n",
      "**** Epoch  3901 / 10000 ****\n",
      "Training accuracy: 92.84 %\n",
      "Validation accuracy 92.65 %\n",
      "**** Epoch  4001 / 10000 ****\n",
      "Training accuracy: 92.88 %\n",
      "Validation accuracy 92.65 %\n",
      "**** Epoch  4101 / 10000 ****\n",
      "Training accuracy: 92.91 %\n",
      "Validation accuracy 92.61 %\n",
      "**** Epoch  4201 / 10000 ****\n",
      "Training accuracy: 92.92 %\n",
      "Validation accuracy 92.62 %\n",
      "**** Epoch  4301 / 10000 ****\n",
      "Training accuracy: 92.95 %\n",
      "Validation accuracy 92.65 %\n",
      "**** Epoch  4401 / 10000 ****\n",
      "Training accuracy: 93.0 %\n",
      "Validation accuracy 92.6 %\n",
      "**** Epoch  4501 / 10000 ****\n",
      "Training accuracy: 93.03 %\n",
      "Validation accuracy 92.66 %\n",
      "**** Epoch  4601 / 10000 ****\n",
      "Training accuracy: 93.06 %\n",
      "Validation accuracy 92.76 %\n",
      "**** Epoch  4701 / 10000 ****\n",
      "Training accuracy: 93.06 %\n",
      "Validation accuracy 92.8 %\n",
      "**** Epoch  4801 / 10000 ****\n",
      "Training accuracy: 93.1 %\n",
      "Validation accuracy 92.83 %\n",
      "**** Epoch  4901 / 10000 ****\n",
      "Training accuracy: 93.14 %\n",
      "Validation accuracy 92.83 %\n",
      "**** Epoch  5001 / 10000 ****\n",
      "Training accuracy: 93.12 %\n",
      "Validation accuracy 92.75 %\n",
      "**** Epoch  5101 / 10000 ****\n",
      "Training accuracy: 93.13 %\n",
      "Validation accuracy 92.74 %\n",
      "**** Epoch  5201 / 10000 ****\n",
      "Training accuracy: 93.11 %\n",
      "Validation accuracy 92.73 %\n",
      "**** Epoch  5301 / 10000 ****\n",
      "Training accuracy: 93.13 %\n",
      "Validation accuracy 92.74 %\n",
      "**** Epoch  5401 / 10000 ****\n",
      "Training accuracy: 93.14 %\n",
      "Validation accuracy 92.72 %\n",
      "**** Epoch  5501 / 10000 ****\n",
      "Training accuracy: 93.16 %\n",
      "Validation accuracy 92.7 %\n",
      "**** Epoch  5601 / 10000 ****\n",
      "Training accuracy: 93.15 %\n",
      "Validation accuracy 92.66 %\n",
      "**** Epoch  5701 / 10000 ****\n",
      "Training accuracy: 93.18 %\n",
      "Validation accuracy 92.62 %\n",
      "**** Epoch  5801 / 10000 ****\n",
      "Training accuracy: 93.14 %\n",
      "Validation accuracy 92.57 %\n",
      "**** Epoch  5901 / 10000 ****\n",
      "Training accuracy: 93.15 %\n",
      "Validation accuracy 92.59 %\n",
      "**** Epoch  6001 / 10000 ****\n",
      "Training accuracy: 93.16 %\n",
      "Validation accuracy 92.53 %\n",
      "**** Epoch  6101 / 10000 ****\n",
      "Training accuracy: 93.16 %\n",
      "Validation accuracy 92.6 %\n",
      "**** Epoch  6201 / 10000 ****\n",
      "Training accuracy: 93.16 %\n",
      "Validation accuracy 92.66 %\n",
      "**** Epoch  6301 / 10000 ****\n",
      "Training accuracy: 93.17 %\n",
      "Validation accuracy 92.66 %\n",
      "**** Epoch  6401 / 10000 ****\n",
      "Training accuracy: 93.15 %\n",
      "Validation accuracy 92.69 %\n",
      "**** Epoch  6501 / 10000 ****\n",
      "Training accuracy: 93.14 %\n",
      "Validation accuracy 92.69 %\n",
      "**** Epoch  6601 / 10000 ****\n",
      "Training accuracy: 93.16 %\n",
      "Validation accuracy 92.7 %\n",
      "**** Epoch  6701 / 10000 ****\n",
      "Training accuracy: 93.16 %\n",
      "Validation accuracy 92.73 %\n",
      "**** Epoch  6801 / 10000 ****\n",
      "Training accuracy: 93.18 %\n",
      "Validation accuracy 92.68 %\n",
      "**** Epoch  6901 / 10000 ****\n",
      "Training accuracy: 93.17 %\n",
      "Validation accuracy 92.72 %\n",
      "**** Epoch  7001 / 10000 ****\n",
      "Training accuracy: 93.16 %\n",
      "Validation accuracy 92.69 %\n",
      "**** Epoch  7101 / 10000 ****\n",
      "Training accuracy: 93.16 %\n",
      "Validation accuracy 92.65 %\n",
      "**** Epoch  7201 / 10000 ****\n",
      "Training accuracy: 93.17 %\n",
      "Validation accuracy 92.68 %\n",
      "**** Epoch  7301 / 10000 ****\n",
      "Training accuracy: 93.15 %\n",
      "Validation accuracy 92.63 %\n",
      "**** Epoch  7401 / 10000 ****\n",
      "Training accuracy: 93.14 %\n",
      "Validation accuracy 92.54 %\n",
      "**** Epoch  7501 / 10000 ****\n",
      "Training accuracy: 93.14 %\n",
      "Validation accuracy 92.54 %\n",
      "**** Epoch  7601 / 10000 ****\n",
      "Training accuracy: 93.11 %\n",
      "Validation accuracy 92.46 %\n",
      "**** Epoch  7701 / 10000 ****\n",
      "Training accuracy: 93.07 %\n",
      "Validation accuracy 92.48 %\n",
      "**** Epoch  7801 / 10000 ****\n",
      "Training accuracy: 93.08 %\n",
      "Validation accuracy 92.49 %\n",
      "**** Epoch  7901 / 10000 ****\n",
      "Training accuracy: 93.06 %\n",
      "Validation accuracy 92.54 %\n",
      "**** Epoch  8001 / 10000 ****\n",
      "Training accuracy: 93.05 %\n",
      "Validation accuracy 92.56 %\n",
      "**** Epoch  8101 / 10000 ****\n",
      "Training accuracy: 93.09 %\n",
      "Validation accuracy 92.54 %\n",
      "**** Epoch  8201 / 10000 ****\n",
      "Training accuracy: 93.12 %\n",
      "Validation accuracy 92.62 %\n",
      "**** Epoch  8301 / 10000 ****\n",
      "Training accuracy: 93.09 %\n",
      "Validation accuracy 92.61 %\n",
      "**** Epoch  8401 / 10000 ****\n",
      "Training accuracy: 93.1 %\n",
      "Validation accuracy 92.58 %\n",
      "**** Epoch  8501 / 10000 ****\n",
      "Training accuracy: 93.1 %\n",
      "Validation accuracy 92.56 %\n",
      "**** Epoch  8601 / 10000 ****\n",
      "Training accuracy: 93.13 %\n",
      "Validation accuracy 92.6 %\n",
      "**** Epoch  8701 / 10000 ****\n",
      "Training accuracy: 93.15 %\n",
      "Validation accuracy 92.65 %\n",
      "**** Epoch  8801 / 10000 ****\n",
      "Training accuracy: 93.17 %\n",
      "Validation accuracy 92.64 %\n",
      "**** Epoch  8901 / 10000 ****\n",
      "Training accuracy: 93.19 %\n",
      "Validation accuracy 92.63 %\n",
      "**** Epoch  9001 / 10000 ****\n",
      "Training accuracy: 93.18 %\n",
      "Validation accuracy 92.64 %\n",
      "**** Epoch  9101 / 10000 ****\n",
      "Training accuracy: 93.15 %\n",
      "Validation accuracy 92.61 %\n",
      "**** Epoch  9201 / 10000 ****\n",
      "Training accuracy: 93.16 %\n",
      "Validation accuracy 92.6 %\n",
      "**** Epoch  9301 / 10000 ****\n",
      "Training accuracy: 93.17 %\n",
      "Validation accuracy 92.6 %\n",
      "**** Epoch  9401 / 10000 ****\n",
      "Training accuracy: 93.19 %\n",
      "Validation accuracy 92.58 %\n",
      "**** Epoch  9501 / 10000 ****\n",
      "Training accuracy: 93.17 %\n",
      "Validation accuracy 92.61 %\n",
      "**** Epoch  9601 / 10000 ****\n",
      "Training accuracy: 93.16 %\n",
      "Validation accuracy 92.52 %\n",
      "**** Epoch  9701 / 10000 ****\n",
      "Training accuracy: 93.16 %\n",
      "Validation accuracy 92.59 %\n",
      "**** Epoch  9801 / 10000 ****\n",
      "Training accuracy: 93.14 %\n",
      "Validation accuracy 92.66 %\n",
      "**** Epoch  9901 / 10000 ****\n",
      "Training accuracy: 93.14 %\n",
      "Validation accuracy 92.65 %\n",
      "Model training completed!\n",
      "Training Accuracy: 93.17 %\n",
      "Validation Accuracy: 92.61 %\n"
     ]
    }
   ],
   "source": [
    "error, W_x, B_x, y, training_acc, val_acc, val_cost=Neural_Network(X_train, y_train, X_test, y_test, l_hidden, alpha, epochs, l2_lambda)"
   ]
  },
  {
   "cell_type": "code",
   "execution_count": 328,
   "metadata": {},
   "outputs": [
    {
     "data": {
      "image/png": "[encoded data removed]",
      "text/plain": [
       "<Figure size 1296x432 with 1 Axes>"
      ]
     },
     "metadata": {
      "needs_background": "light"
     },
     "output_type": "display_data"
    }
   ],
   "source": [
    "plt.figure(figsize=(18,6))\n",
    "plt.plot(error, label='Training')\n",
    "plt.plot(val_cost, '--', color='red' , label='Validation')\n",
    "plt.title('Training and validation Cost over ' + str(epochs)+' epochs')\n",
    "plt.xlabel('Epochs')\n",
    "plt.ylabel('Cost')\n",
    "plt.legend()\n",
    "plt.show()"
   ]
  },
  {
   "cell_type": "code",
   "execution_count": 329,
   "metadata": {},
   "outputs": [
    {
     "data": {
      "image/png": "[encoded data removed]",
      "text/plain": [
       "<Figure size 1296x432 with 1 Axes>"
      ]
     },
     "metadata": {
      "needs_background": "light"
     },
     "output_type": "display_data"
    }
   ],
   "source": [
    "plt.figure(figsize=(18,6))\n",
    "plt.plot(training_acc, label='Training')\n",
    "plt.plot(val_acc, '--',color='red', label='Validation')\n",
    "plt.title('Training and Validation accuracy')\n",
    "plt.xlabel('Epochs')\n",
    "plt.ylabel('Accuracy')\n",
    "plt.legend()\n",
    "plt.show()"
   ]
  },
  {
   "cell_type": "markdown",
   "metadata": {},
   "source": [
    "### The model has one hidden layer with 100 units with $\\lambda$ =0.2 and $\\alpha$=1e-4 resulted in a validation accuracy of ~92%"
   ]
  },
  {
   "cell_type": "code",
   "execution_count": 313,
   "metadata": {},
   "outputs": [],
   "source": [
    "l_hidden=[32] # Hidden layers configuration\n",
    "alpha=0.00001 # Learning rate\n",
    "l2_lambda=0.1 #L2 regularization variable\n",
    "epochs=1000 # Number of epochs"
   ]
  },
  {
   "cell_type": "code",
   "execution_count": 314,
   "metadata": {},
   "outputs": [
    {
     "name": "stdout",
     "output_type": "stream",
     "text": [
      "**** Epoch  1 / 1000 ****\n",
      "Training accuracy: 13.83 %\n",
      "Validation accuracy 13.85 %\n",
      "**** Epoch  101 / 1000 ****\n",
      "Training accuracy: 82.69 %\n",
      "Validation accuracy 83.66 %\n",
      "**** Epoch  201 / 1000 ****\n",
      "Training accuracy: 85.51 %\n",
      "Validation accuracy 85.93 %\n",
      "**** Epoch  301 / 1000 ****\n",
      "Training accuracy: 86.54 %\n",
      "Validation accuracy 87.07 %\n",
      "**** Epoch  401 / 1000 ****\n",
      "Training accuracy: 87.33 %\n",
      "Validation accuracy 87.59 %\n",
      "**** Epoch  501 / 1000 ****\n",
      "Training accuracy: 87.86 %\n",
      "Validation accuracy 88.15 %\n",
      "**** Epoch  601 / 1000 ****\n",
      "Training accuracy: 88.22 %\n",
      "Validation accuracy 88.49 %\n",
      "**** Epoch  701 / 1000 ****\n",
      "Training accuracy: 88.54 %\n",
      "Validation accuracy 88.75 %\n",
      "**** Epoch  801 / 1000 ****\n",
      "Training accuracy: 88.78 %\n",
      "Validation accuracy 88.79 %\n",
      "**** Epoch  901 / 1000 ****\n",
      "Training accuracy: 89.02 %\n",
      "Validation accuracy 89.11 %\n",
      "Model training completed!\n",
      "Training Accuracy: 89.13 %\n",
      "Validation Accuracy: 89.21 %\n"
     ]
    }
   ],
   "source": [
    "error, W_x, B_x, y, training_acc, val_acc, val_cost=Neural_Network(X_train, y_train, X_test, y_test, l_hidden, alpha, epochs, l2_lambda)"
   ]
  },
  {
   "cell_type": "code",
   "execution_count": 315,
   "metadata": {},
   "outputs": [
    {
     "data": {
      "image/png": "[encoded data removed]",
      "text/plain": [
       "<Figure size 1296x432 with 1 Axes>"
      ]
     },
     "metadata": {
      "needs_background": "light"
     },
     "output_type": "display_data"
    }
   ],
   "source": [
    "plt.figure(figsize=(18,6))\n",
    "plt.plot(error, label='Training')\n",
    "plt.plot(val_cost, '--', color='red' , label='Validation')\n",
    "plt.title('Training and validation Cost over ' + str(epochs)+' epochs')\n",
    "plt.xlabel('Epochs')\n",
    "plt.ylabel('Cost')\n",
    "plt.legend()\n",
    "plt.show()"
   ]
  },
  {
   "cell_type": "code",
   "execution_count": 316,
   "metadata": {},
   "outputs": [
    {
     "data": {
      "image/png": "[encoded data removed]",
      "text/plain": [
       "<Figure size 1296x432 with 1 Axes>"
      ]
     },
     "metadata": {
      "needs_background": "light"
     },
     "output_type": "display_data"
    }
   ],
   "source": [
    "plt.figure(figsize=(18,6))\n",
    "plt.plot(training_acc, label='Training')\n",
    "plt.plot(val_acc, '--',color='red', label='Validation')\n",
    "plt.title('Training and Validation accuracy')\n",
    "plt.xlabel('Epochs')\n",
    "plt.ylabel('Accuracy')\n",
    "plt.legend()\n",
    "plt.show()"
   ]
  },
  {
   "cell_type": "markdown",
   "metadata": {},
   "source": [
    "### The model has one hidden layer with 32 units with $\\lambda$ =0.1 and $\\alpha$=1e-4 resulted in a validation accuracy of ~89%"
   ]
  },
  {
   "cell_type": "code",
   "execution_count": 38,
   "metadata": {},
   "outputs": [],
   "source": [
    "l_hidden=[64,64] # Hidden layers configuration\n",
    "alpha=0.00001 # Learning rate\n",
    "l2_lambda=0.2 #L2 regularization variable\n",
    "epochs=800 # Number of epochs"
   ]
  },
  {
   "cell_type": "code",
   "execution_count": 39,
   "metadata": {},
   "outputs": [
    {
     "name": "stdout",
     "output_type": "stream",
     "text": [
      "**** Epoch  1 / 800 ****\n",
      "Training accuracy: 11.24 %\n",
      "Validation accuracy 11.35 %\n",
      "**** Epoch  101 / 800 ****\n",
      "Training accuracy: 21.36 %\n",
      "Validation accuracy 21.49 %\n",
      "**** Epoch  201 / 800 ****\n",
      "Training accuracy: 62.34 %\n",
      "Validation accuracy 62.88 %\n",
      "**** Epoch  301 / 800 ****\n",
      "Training accuracy: 73.06 %\n",
      "Validation accuracy 73.78 %\n",
      "**** Epoch  401 / 800 ****\n",
      "Training accuracy: 76.36 %\n",
      "Validation accuracy 77.03 %\n",
      "**** Epoch  501 / 800 ****\n",
      "Training accuracy: 78.52 %\n",
      "Validation accuracy 79.03 %\n",
      "**** Epoch  601 / 800 ****\n",
      "Training accuracy: 80.75 %\n",
      "Validation accuracy 80.97 %\n",
      "**** Epoch  701 / 800 ****\n",
      "Training accuracy: 83.43 %\n",
      "Validation accuracy 83.35 %\n",
      "Model training completed!\n",
      "Training Accuracy: 85.04 %\n",
      "Validation Accuracy: 85.14 %\n"
     ]
    }
   ],
   "source": [
    "error, W_x, B_x, y, training_acc, val_acc, val_cost=Neural_Network(X_train, y_train, X_test, y_test, l_hidden, alpha, epochs, l2_lambda)"
   ]
  },
  {
   "cell_type": "code",
   "execution_count": null,
   "metadata": {},
   "outputs": [],
   "source": [
    "plt.figure(figsize=(18,6))\n",
    "plt.plot(error, label='Training')\n",
    "plt.plot(val_cost, '--', color='red' , label='Validation')\n",
    "plt.title('Training and validation Cost over ' + str(epochs)+' epochs')\n",
    "plt.xlabel('Epochs')\n",
    "plt.ylabel('Cost')\n",
    "plt.legend()\n",
    "plt.show()"
   ]
  },
  {
   "cell_type": "code",
   "execution_count": null,
   "metadata": {},
   "outputs": [],
   "source": [
    "plt.figure(figsize=(18,6))\n",
    "plt.plot(training_acc, label='Training')\n",
    "plt.plot(val_acc, '--',color='red', label='Validation')\n",
    "plt.title('Training and Validation accuracy')\n",
    "plt.xlabel('Epochs')\n",
    "plt.ylabel('Accuracy')\n",
    "plt.legend()\n",
    "plt.show()"
   ]
  },
  {
   "cell_type": "markdown",
   "metadata": {},
   "source": [
    "#### The last expirement with four hidden layers demonstrated no learning whatsoever for the model."
   ]
  },
  {
   "cell_type": "markdown",
   "metadata": {},
   "source": [
    "###  Conclusion\n",
    "\n",
    "#### For variable configurations have been trialed in this expirement. All expirements ran for 1K epochs for each model with variable configurations for hidden layers and L2-regularization $\\lambda$ values. The $\\alpha$ value was fixed at 1e-4 for all trials. It was noted that the best performance was attributed to experiment No.2 with one hidden layer with one hidden node, which procuded a validation accuracy rate of 92%. The model produced a validation accuracy of >90 just after 200 epochs.\n",
    "\n",
    "#### More complex models like the one in the first expirement took much longer to improve accuracy and only reached 89% accuracy after 1000 epochs. It is also notable that the model's accuracy was under 20% for almost 70 epochs before starting to improve. Other expirements not mentioned in the notebook with higher numbers of nodes like 256, resulted in poor accuracies and severe over-fitting.\n",
    "\n",
    "#### Moreover, L2 regularization had a marginal effect on the results, this might have been attributed to the little amount of noise in the dataset, which was relatively easy to learn for the models.\n",
    "\n",
    "#### Very complex configurations like trial No.4 with 4 hidden layers was stuck at 11% accuracy and did not manage to learn the dataset. One more important note is the $\\alpha$ value was tested throughly and was kept low at 1e-4 for the models to learn. Any higher value was detremental to the model and no learning was produced with higher values.\n",
    "\n",
    "#### Finally, both training and validations costs and accuracies were very close to each other, which meant that the models were generalizing very well and no overfitting was happening. Despite being a black-box, model complexity should be adapted to the data complexity, and in this case, a 1-hidden layer model is more than enough to provide good results for the MINST dataset. Further epochs may have increased accuracy to closer to 96% or 97%.\n"
   ]
  }
 ],
 "metadata": {
  "colab": {
   "collapsed_sections": [],
   "name": "Homework 2.ipynb",
   "provenance": []
  },
  "kernelspec": {
   "display_name": "Python 3",
   "language": "python",
   "name": "python3"
  },
  "language_info": {
   "codemirror_mode": {
    "name": "ipython",
    "version": 3
   },
   "file_extension": ".py",
   "mimetype": "text/x-python",
   "name": "python",
   "nbconvert_exporter": "python",
   "pygments_lexer": "ipython3",
   "version": "3.8.5"
  }
 },
 "nbformat": 4,
 "nbformat_minor": 4
}
